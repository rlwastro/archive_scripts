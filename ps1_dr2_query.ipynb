{
 "cells": [
  {
   "cell_type": "markdown",
   "metadata": {},
   "source": [
    "# Query Pan-STARRS DR2 catalog using CasJobs\n",
    "\n",
    "This script shows how to query the Pan-STARRS DR2 catalog using a Python interface to Casjobs.  The examples show how to do a simple cone search, how to manipulate the table of results, and how to get a light curve from the table of detections.\n",
    "\n",
    "This relies on the mastcasjobs Python module.  Follow the installation instructions given here:\n",
    "https://github.com/rlwastro/mastcasjobs.\n",
    "\n",
    "You must have a MAST Casjobs account (see https://mastweb.stsci.edu/ps1casjobs to create one).  Note that MAST Casjobs accounts are independent of SDSS Casjobs accounts.\n",
    "\n",
    "For easy startup, set the `CASJOBS_WSID` and `CASJOBS_PW` environment variables with your Casjobs account information.  You can get your WSID by going to https://mastweb.stsci.edu/ps1casjobs/changedetails.aspx after you login to Casjobs.  Your password is what you enter when logging into Casjobs.\n",
    "\n",
    "This script prompts for your Casjobs WSID and password if the environment variables are not defined.\n",
    "\n",
    "You can also specify your wsid and password directly in the MastCasJobs initialization using the userid and password keyword parameters.\n",
    "\n",
    "This notebook is available for [download](https://ps1images.stsci.edu/ps1_dr2_query.ipynb)."
   ]
  },
  {
   "cell_type": "code",
   "execution_count": 1,
   "metadata": {},
   "outputs": [],
   "source": [
    "%matplotlib inline\n",
    "import mastcasjobs\n",
    "from astropy.io import ascii\n",
    "from astropy.table import Table\n",
    "\n",
    "import sys\n",
    "import os\n",
    "import re\n",
    "import numpy as np\n",
    "import pylab\n",
    "import json\n",
    "\n",
    "try: # Python 3.x\n",
    "    from urllib.parse import quote as urlencode\n",
    "    from urllib.request import urlretrieve\n",
    "except ImportError:  # Python 2.x\n",
    "    from urllib import pathname2url as urlencode\n",
    "    from urllib import urlretrieve\n",
    "\n",
    "try: # Python 3.x\n",
    "    import http.client as httplib \n",
    "except ImportError:  # Python 2.x\n",
    "    import httplib\n",
    "\n",
    "# get the WSID and password if not already defined\n",
    "import getpass\n",
    "if not os.environ.get('CASJOBS_WSID'):\n",
    "    os.environ['CASJOBS_WSID'] = input('Enter Casjobs WSID:')\n",
    "if not os.environ.get('CASJOBS_PW'):\n",
    "    os.environ['CASJOBS_PW'] = getpass.getpass('Enter Casjobs password:')"
   ]
  },
  {
   "cell_type": "markdown",
   "metadata": {},
   "source": [
    "## Useful functions\n",
    "\n",
    "Resolve names using [MAST query](https://mast.stsci.edu/api/v0/MastApiTutorial.html) and fix up column names returned from Casjobs."
   ]
  },
  {
   "cell_type": "code",
   "execution_count": 2,
   "metadata": {},
   "outputs": [],
   "source": [
    "def mastQuery(request):\n",
    "    \"\"\"Perform a MAST query.\n",
    "\n",
    "    Parameters\n",
    "    ----------\n",
    "    request (dictionary): The MAST request json object\n",
    "\n",
    "    Returns head,content where head is the response HTTP headers, and content is the returned data\"\"\"\n",
    "    \n",
    "    server='mast.stsci.edu'\n",
    "\n",
    "    # Grab Python Version \n",
    "    version = \".\".join(map(str, sys.version_info[:3]))\n",
    "\n",
    "    # Create Http Header Variables\n",
    "    headers = {\"Content-type\": \"application/x-www-form-urlencoded\",\n",
    "               \"Accept\": \"text/plain\",\n",
    "               \"User-agent\":\"python-requests/\"+version}\n",
    "\n",
    "    # Encoding the request as a json string\n",
    "    requestString = json.dumps(request)\n",
    "    requestString = urlencode(requestString)\n",
    "    \n",
    "    # opening the https connection\n",
    "    conn = httplib.HTTPSConnection(server)\n",
    "\n",
    "    # Making the query\n",
    "    conn.request(\"POST\", \"/api/v0/invoke\", \"request=\"+requestString, headers)\n",
    "\n",
    "    # Getting the response\n",
    "    resp = conn.getresponse()\n",
    "    head = resp.getheaders()\n",
    "    content = resp.read().decode('utf-8')\n",
    "\n",
    "    # Close the https connection\n",
    "    conn.close()\n",
    "\n",
    "    return head,content\n",
    "\n",
    "\n",
    "def resolve(name):\n",
    "    \"\"\"Get the RA and Dec for an object using the MAST name resolver\n",
    "    \n",
    "    Parameters\n",
    "    ----------\n",
    "    name (str): Name of object\n",
    "\n",
    "    Returns RA, Dec tuple with position\"\"\"\n",
    "\n",
    "    resolverRequest = {'service':'Mast.Name.Lookup',\n",
    "                       'params':{'input':name,\n",
    "                                 'format':'json'\n",
    "                                },\n",
    "                      }\n",
    "    headers,resolvedObjectString = mastQuery(resolverRequest)\n",
    "    resolvedObject = json.loads(resolvedObjectString)\n",
    "    # The resolver returns a variety of information about the resolved object, \n",
    "    # however for our purposes all we need are the RA and Dec\n",
    "    try:\n",
    "        objRa = resolvedObject['resolvedCoordinate'][0]['ra']\n",
    "        objDec = resolvedObject['resolvedCoordinate'][0]['decl']\n",
    "    except IndexError as e:\n",
    "        raise ValueError(\"Unknown object '{}'\".format(name))\n",
    "    return (objRa, objDec)\n",
    "\n",
    "\n",
    "def fixcolnames(tab):\n",
    "    \"\"\"Fix column names returned by the casjobs query\n",
    "    \n",
    "    Parameters\n",
    "    ----------\n",
    "    tab (astropy.table.Table): Input table\n",
    "\n",
    "    Returns reference to original table with column names modified\"\"\"\n",
    "\n",
    "    pat = re.compile(r'\\[(?P<name>[^[]+)\\]')\n",
    "    for c in tab.colnames:\n",
    "        m = pat.match(c)\n",
    "        if not m:\n",
    "            raise ValueError(\"Unable to parse column name '{}'\".format(c))\n",
    "        newname = m.group('name')\n",
    "        tab.rename_column(c,newname)\n",
    "    return tab"
   ]
  },
  {
   "cell_type": "markdown",
   "metadata": {},
   "source": [
    "## Simple positional query\n",
    "\n",
    "This searches the mean object catalog for objects within 50 arcsec of M87 (RA=187.706, Dec=12.391 in degrees). The `fGetNearbyObjEq` function returns a list of object IDs, and the subsequent joins extract information from the [ObjectThin](https://outerspace.stsci.edu/x/W4Oc) table (which has information on object positions and the number of available measurements) and the [MeanObject](https://outerspace.stsci.edu/x/WYOc) table (which has information on photometry averaged over the multiple epochs of observation).\n",
    "\n",
    "Note that the results are restricted to objects with `nDetections>1`, where `nDetections` is the total number of times the object was detected on the single-epoch images in any filter at any time.  Objects with `nDetections=1` tend to be  artifacts, so this is a quick way to eliminate most spurious objects from the catalog.\n",
    "\n",
    "This query runs in the interactive \"quick\" Casjobs queue, where the function pauses until the query is complete and returns the results as a CSV string.  __If one of these queries times out (which can happen if the database server is heavily loaded), try simply running it again.__  Often the same query will succeed the second time.\n",
    "\n",
    "The more robust way to handle long-running queries is to run them in batch mode, but that requires waiting in the Casjobs queue if the system is busy."
   ]
  },
  {
   "cell_type": "code",
   "execution_count": 3,
   "metadata": {},
   "outputs": [],
   "source": [
    "query = \"\"\"select o.objID, o.raMean, o.decMean,\n",
    "o.nDetections, o.ng, o.nr, o.ni, o.nz, o.ny,\n",
    "m.gMeanPSFMag, m.rMeanPSFMag, m.iMeanPSFMag, m.zMeanPSFMag, m.yMeanPSFMag\n",
    "from fGetNearbyObjEq(187.706,12.391,50.0/60.0) nb\n",
    "inner join ObjectThin o on o.objid=nb.objid and o.nDetections>1\n",
    "inner join MeanObject m on o.objid=m.objid and o.uniquePspsOBid=m.uniquePspsOBid\n",
    "\"\"\"\n",
    "\n",
    "jobs = mastcasjobs.MastCasJobs(context=\"PanSTARRS_DR2\")\n",
    "results = jobs.quick(query, task_name=\"python cone search\")\n",
    "print(results)"
   ]
  },
  {
   "cell_type": "markdown",
   "metadata": {},
   "source": [
    "### Convert the results to an astropy table\n",
    "\n",
    "The CSV results string is easily converted to an [astropy table](http://docs.astropy.org/en/stable/table/).  The column names are messy (with embedded datatypes), so the `fixcolnames` function (defined above) is called to clean up the names.  This table is easily manipulated to extract information on individual columns or rows."
   ]
  },
  {
   "cell_type": "code",
   "execution_count": 4,
   "metadata": {},
   "outputs": [],
   "source": [
    "tab = fixcolnames(ascii.read(results))\n",
    "tab"
   ]
  },
  {
   "cell_type": "markdown",
   "metadata": {},
   "source": [
    "## Get DR2 light curve for RR Lyrae star KQ UMa\n",
    "\n",
    "This time we start with the object name, use the MAST name resolver (which relies on Simbad and NED) to convert the name to RA and Dec, and then query the PS1 DR2 mean object catalog at that position.  This time we use the `fGetNearestObjEq` function to select just the object closest to the search position."
   ]
  },
  {
   "cell_type": "code",
   "execution_count": 5,
   "metadata": {},
   "outputs": [],
   "source": [
    "objname = 'KQ UMa'\n",
    "ra, dec = resolve(objname)\n",
    "radius = 1.0/60.0 # radius = 1 arcsec\n",
    "\n",
    "query = \"\"\"select o.objID, o.raMean, o.decMean,\n",
    "o.nDetections, o.ng, o.nr, o.ni, o.nz, o.ny,\n",
    "m.gMeanPSFMag, m.rMeanPSFMag, m.iMeanPSFMag, m.zMeanPSFMag, m.yMeanPSFMag\n",
    "from fGetNearestObjEq({},{},{}) nb\n",
    "inner join ObjectThin o on o.objid=nb.objid and o.nDetections>1\n",
    "inner join MeanObject m on o.objid=m.objid and o.uniquePspsOBid=m.uniquePspsOBid\n",
    "\"\"\".format(ra,dec,radius)\n",
    "\n",
    "print(query)\n",
    "\n",
    "jobs = mastcasjobs.MastCasJobs(context=\"PanSTARRS_DR2\")\n",
    "results = jobs.quick(query, task_name=\"python cone search\")\n",
    "tab = fixcolnames(ascii.read(results))\n",
    "tab"
   ]
  },
  {
   "cell_type": "markdown",
   "metadata": {},
   "source": [
    "### Get the detection information\n",
    "\n",
    "Extract all the objects with the same object ID from the [Detection](https://outerspace.stsci.edu/x/b4Oc) table, which contains all the individual measurements for this source. The results are joined to the [Filter](https://outerspace.stsci.edu/x/nIOc) table to convert the filter numbers to names.  The somewhat odd structure for the SQL (with the inner query in parentheses) ensures that the select by `objID` occurs before the match to the `Filter` table.  If the SQL optimizer gets confused and does the join between `Detection` and `Filter` before selecting the subset of objects, the query is very slow!"
   ]
  },
  {
   "cell_type": "code",
   "execution_count": 6,
   "metadata": {},
   "outputs": [],
   "source": [
    "objid = tab['objID'][0]\n",
    "query = \"\"\"select \n",
    "    objID, detectID, filter=f.filterType, obsTime, ra, dec,\n",
    "    psfFlux, psfFluxErr, psfMajorFWHM, psfMinorFWHM, psfQfPerfect, \n",
    "    apFlux, apFluxErr, infoFlag, infoFlag2, infoFlag3\n",
    "from (\n",
    "    select * from Detection where objID={}\n",
    "    ) d\n",
    "join Filter f on d.filterID=f.filterID\n",
    "order by d.filterID, obsTime\n",
    "\"\"\".format(objid)\n",
    "\n",
    "print(query)\n",
    "\n",
    "dresults = jobs.quick(query, task_name=\"python detection search\")\n",
    "dtab = fixcolnames(ascii.read(dresults))\n",
    "dtab"
   ]
  },
  {
   "cell_type": "markdown",
   "metadata": {},
   "source": [
    "### Plot the light curves\n",
    "\n",
    "The `psfFlux` values from the Detection table are converted from Janskys to AB magnitudes.  Measurements in the 5 different filters are plotted separately."
   ]
  },
  {
   "cell_type": "code",
   "execution_count": 7,
   "metadata": {},
   "outputs": [],
   "source": [
    "# convert flux in Jy to magnitudes\n",
    "t = dtab['obsTime']\n",
    "mag = -2.5*np.log10(dtab['psfFlux']) + 8.90\n",
    "xlim = np.array([t.min(),t.max()])\n",
    "xlim = xlim + np.array([-1,1])*0.02*(xlim[1]-xlim[0])\n",
    "\n",
    "pylab.rcParams.update({'font.size': 14})\n",
    "pylab.figure(1,(10,10))\n",
    "for i, filter in enumerate(\"grizy\"):\n",
    "    pylab.subplot(511+i)\n",
    "    w = np.where(dtab['filter']==filter)\n",
    "    pylab.plot(t[w],mag[w],'-o')\n",
    "    pylab.ylabel(filter+' [mag]')\n",
    "    pylab.xlim(xlim)\n",
    "    pylab.gca().invert_yaxis()\n",
    "    if i==0:\n",
    "        pylab.title(objname)\n",
    "pylab.xlabel('Time [MJD]')\n",
    "pylab.tight_layout()"
   ]
  },
  {
   "cell_type": "markdown",
   "metadata": {},
   "source": [
    "Plot differences from the mean magnitudes in the initial search."
   ]
  },
  {
   "cell_type": "code",
   "execution_count": 8,
   "metadata": {},
   "outputs": [],
   "source": [
    "# convert flux in Jy to magnitudes\n",
    "t = dtab['obsTime']\n",
    "mag = -2.5*np.log10(dtab['psfFlux']) + 8.90\n",
    "xlim = np.array([t.min(),t.max()])\n",
    "xlim = xlim + np.array([-1,1])*0.02*(xlim[1]-xlim[0])\n",
    "\n",
    "pylab.rcParams.update({'font.size': 14})\n",
    "pylab.figure(1,(10,10))\n",
    "for i, filter in enumerate(\"grizy\"):\n",
    "    pylab.subplot(511+i)\n",
    "    w = np.where(dtab['filter']==filter)\n",
    "    magmean = tab[filter+'MeanPSFMag'][0]\n",
    "    pylab.plot(t[w],mag[w] - magmean,'-o')\n",
    "    pylab.ylabel('{} [mag - {:.2f}]'.format(filter,magmean))\n",
    "    pylab.xlim(xlim)\n",
    "    pylab.gca().invert_yaxis()\n",
    "    if i==0:\n",
    "        pylab.title(objname)\n",
    "pylab.xlabel('Time [MJD]')\n",
    "pylab.tight_layout()"
   ]
  },
  {
   "cell_type": "markdown",
   "metadata": {},
   "source": [
    "### Identify bad data\n",
    "\n",
    "There is one clearly bad $z$ magnitude with a very large difference.  Select the bad point and look at it in more detail.\n",
    "\n",
    "Note that indexing a table (or numpy array) with a logical expression selects just the rows where that expression is true."
   ]
  },
  {
   "cell_type": "code",
   "execution_count": 9,
   "metadata": {},
   "outputs": [],
   "source": [
    "dtab[ (dtab['filter']=='z') & (np.abs(mag-tab['zMeanPSFMag'][0]) > 2) ]"
   ]
  },
  {
   "cell_type": "markdown",
   "metadata": {},
   "source": [
    "From examining this table, it looks like `psfQfPerfect` is bad.  This flag is the PSF-weighted fraction of unmasked pixels in the image (see the [documentation](https://outerspace.stsci.edu/x/IoOc) for more details). Values near unity indicate good data that is not significantly affected by bad pixels.\n",
    "\n",
    "Check all the `psfQfPerfect` values for the $z$ filter to see if this value really is unusual.  The list of values below are sorted by magnitude.  The bad point is the only value with `psfQfPerfect` < 0.95."
   ]
  },
  {
   "cell_type": "code",
   "execution_count": 10,
   "metadata": {},
   "outputs": [],
   "source": [
    "w = np.where(dtab['filter']=='z')\n",
    "zdtab = dtab[w]\n",
    "zdtab['mag'] = mag[w]\n",
    "zdtab['dmag'] = zdtab['mag'] - tab['zMeanPSFMag'][0]\n",
    "ii = np.argsort(-np.abs(zdtab['dmag']))\n",
    "zdtab = zdtab[ii]\n",
    "zdtab['objID','obsTime','mag','dmag','psfQfPerfect']"
   ]
  },
  {
   "cell_type": "markdown",
   "metadata": {},
   "source": [
    "### Repeat the plot with bad psfQfPerfect values excluded\n",
    "\n",
    "Do the plot again but exclude low psfQfPerfect values."
   ]
  },
  {
   "cell_type": "code",
   "execution_count": 11,
   "metadata": {},
   "outputs": [],
   "source": [
    "# convert flux in Jy to magnitudes\n",
    "t = dtab['obsTime']\n",
    "mag = -2.5*np.log10(dtab['psfFlux']) + 8.90\n",
    "magmean = 0.0*mag\n",
    "for filter in \"grizy\":\n",
    "    magmean[dtab['filter']==filter] = tab[filter+'MeanPSFMag'][0]\n",
    "dmag = mag - magmean\n",
    "dmag1 = dmag[dtab['psfQfPerfect']>0.9]\n",
    "# fix the x and y axis ranges\n",
    "xlim = np.array([t.min(),t.max()])\n",
    "xlim = xlim + np.array([-1,1])*0.02*(xlim[1]-xlim[0])\n",
    "# flip axis direction for magnitude\n",
    "ylim = np.array([dmag1.max(),dmag1.min()])\n",
    "ylim = ylim + np.array([-1,1])*0.02*(ylim[1]-ylim[0])\n",
    "\n",
    "pylab.rcParams.update({'font.size': 14})\n",
    "pylab.figure(1,(10,10))\n",
    "for i, filter in enumerate(\"grizy\"):\n",
    "    pylab.subplot(511+i)\n",
    "    w = np.where((dtab['filter']==filter) & (dtab['psfQfPerfect']>0.9))[0]\n",
    "    pylab.plot(t[w],dmag[w],'-o')\n",
    "    pylab.ylabel('{} [mag - {:.2f}]'.format(filter,magmean[w[0]]))\n",
    "    pylab.xlim(xlim)\n",
    "    pylab.ylim(ylim)\n",
    "    if i==0:\n",
    "        pylab.title(objname)\n",
    "pylab.xlabel('Time [MJD]')\n",
    "pylab.tight_layout()"
   ]
  },
  {
   "cell_type": "markdown",
   "metadata": {},
   "source": [
    "### Plot versus the periodic phase instead of epoch\n",
    "\n",
    "Plot versus phase using known RR Lyr period from Simbad (table [J/AJ/132/1202/table4](http://vizier.u-strasbg.fr/viz-bin/VizieR-3?-source=J/AJ/132/1202/table4&-c=KQ%20UMa&-c.u=arcmin&-c.r=2&-c.eq=J2000&-c.geom=r&-out.max=50&-out.form=HTML%20Table&-oc.form=sexa))."
   ]
  },
  {
   "cell_type": "code",
   "execution_count": 12,
   "metadata": {},
   "outputs": [],
   "source": [
    "period = 0.48636\n",
    "# convert flux in Jy to magnitudes\n",
    "t = (dtab['obsTime'] % period) / period\n",
    "mag = -2.5*np.log10(dtab['psfFlux']) + 8.90\n",
    "magmean = 0.0*mag\n",
    "for filter in \"grizy\":\n",
    "    magmean[dtab['filter']==filter] = tab[filter+'MeanPSFMag'][0]\n",
    "dmag = mag - magmean\n",
    "dmag1 = dmag[dtab['psfQfPerfect']>0.9]\n",
    "# fix the x and y axis ranges\n",
    "xlim = np.array([t.min(),t.max()])\n",
    "xlim = xlim + np.array([-1,1])*0.02*(xlim[1]-xlim[0])\n",
    "# flip axis direction for magnitude\n",
    "ylim = np.array([dmag1.max(),dmag1.min()])\n",
    "ylim = ylim + np.array([-1,1])*0.02*(ylim[1]-ylim[0])\n",
    "\n",
    "pylab.rcParams.update({'font.size': 14})\n",
    "pylab.figure(1,(10,10))\n",
    "for i, filter in enumerate(\"grizy\"):\n",
    "    pylab.subplot(511+i)\n",
    "    w = np.where((dtab['filter']==filter) & (dtab['psfQfPerfect']>0.9))[0]\n",
    "    w = w[np.argsort(t[w])]\n",
    "    pylab.plot(t[w],dmag[w],'-o')\n",
    "    pylab.ylabel('{} [mag - {:.2f}]'.format(filter,magmean[w[0]]))\n",
    "    pylab.xlim(xlim)\n",
    "    pylab.ylim(ylim)\n",
    "    if i==0:\n",
    "        pylab.title(objname)\n",
    "pylab.xlabel('Phase')\n",
    "pylab.tight_layout()"
   ]
  },
  {
   "cell_type": "markdown",
   "metadata": {},
   "source": [
    "## Repeat search using eclipsing binary KIC 2161623\n",
    "\n",
    "From [Villanova Kepler Eclipsing Binaries](http://keplerebs.villanova.edu)"
   ]
  },
  {
   "cell_type": "code",
   "execution_count": 13,
   "metadata": {},
   "outputs": [],
   "source": [
    "objname = 'KIC 2161623'\n",
    "ra, dec = resolve(objname)\n",
    "radius = 1.0/60.0 # radius = 1 arcsec\n",
    "\n",
    "query = \"\"\"select o.objID, o.raMean, o.decMean,\n",
    "o.nDetections, o.ng, o.nr, o.ni, o.nz, o.ny,\n",
    "m.gMeanPSFMag, m.rMeanPSFMag, m.iMeanPSFMag, m.zMeanPSFMag, m.yMeanPSFMag\n",
    "from fGetNearestObjEq({},{},{}) nb\n",
    "inner join ObjectThin o on o.objid=nb.objid and o.nDetections>1\n",
    "inner join MeanObject m on o.objid=m.objid and o.uniquePspsOBid=m.uniquePspsOBid\n",
    "\"\"\".format(ra,dec,radius)\n",
    "\n",
    "print(query)\n",
    "\n",
    "jobs = mastcasjobs.MastCasJobs(context=\"PanSTARRS_DR2\")\n",
    "results = jobs.quick(query, task_name=\"python cone search\")\n",
    "tab = fixcolnames(ascii.read(results))\n",
    "tab"
   ]
  },
  {
   "cell_type": "markdown",
   "metadata": {},
   "source": [
    "### Get the detection information\n",
    "\n",
    "This time include the `psfQfPerfect` limit directly in the database query."
   ]
  },
  {
   "cell_type": "code",
   "execution_count": 14,
   "metadata": {},
   "outputs": [],
   "source": [
    "objid = tab['objID'][0]\n",
    "query = \"\"\"select \n",
    "    objID, detectID, filter=f.filterType, obsTime, ra, dec,\n",
    "    psfFlux, psfFluxErr, psfMajorFWHM, psfMinorFWHM, psfQfPerfect, \n",
    "    apFlux, apFluxErr, infoFlag, infoFlag2, infoFlag3\n",
    "from (\n",
    "    select * from Detection where objID={}\n",
    "    ) d\n",
    "join Filter f on d.filterID=f.filterID\n",
    "where psfQfPerfect>0.9\n",
    "order by d.filterID, obsTime\n",
    "\"\"\".format(objid)\n",
    "\n",
    "print(query)\n",
    "\n",
    "dresults = jobs.quick(query, task_name=\"python detection search\")\n",
    "dtab = fixcolnames(ascii.read(dresults))\n",
    "\n",
    "# add magnitude and difference from mean\n",
    "dtab['magmean'] = 0.0\n",
    "for filter in \"grizy\":\n",
    "    dtab['magmean'][dtab['filter']==filter] = tab[filter+'MeanPSFMag'][0]\n",
    "dtab['mag'] = -2.5*np.log10(dtab['psfFlux']) + 8.90\n",
    "dtab['dmag'] = dtab['mag']-dtab['magmean']\n",
    "dtab"
   ]
  },
  {
   "cell_type": "code",
   "execution_count": 15,
   "metadata": {},
   "outputs": [],
   "source": [
    "t = dtab['obsTime']\n",
    "dmag = dtab['dmag']\n",
    "xlim = np.array([t.min(),t.max()])\n",
    "xlim = xlim + np.array([-1,1])*0.02*(xlim[1]-xlim[0])\n",
    "ylim = np.array([dmag.max(),dmag.min()])\n",
    "ylim = ylim + np.array([-1,1])*0.02*(ylim[1]-ylim[0])\n",
    "\n",
    "pylab.rcParams.update({'font.size': 14})\n",
    "pylab.figure(1,(10,10))\n",
    "for i, filter in enumerate(\"grizy\"):\n",
    "    pylab.subplot(511+i)\n",
    "    w = np.where(dtab['filter']==filter)[0]\n",
    "    pylab.plot(t[w],dmag[w],'-o')\n",
    "    magmean = dtab['magmean'][w[0]]\n",
    "    pylab.ylabel('{} [mag - {:.2f}]'.format(filter,magmean))\n",
    "    pylab.xlim(xlim)\n",
    "    pylab.ylim(ylim)\n",
    "    if i==0:\n",
    "        pylab.title(objname)\n",
    "pylab.xlabel('Time [MJD]')\n",
    "pylab.tight_layout()"
   ]
  },
  {
   "cell_type": "markdown",
   "metadata": {},
   "source": [
    "### Plot versus phase using known period\n",
    "\n",
    "Eclipsing binaries basically vary by same amount in all filters since it is a geometrical effect, so combine the data into a single light curve.  Wrap using known period and plot versus phase."
   ]
  },
  {
   "cell_type": "code",
   "execution_count": 16,
   "metadata": {},
   "outputs": [],
   "source": [
    "period = 2.2834698\n",
    "bjd0 = 54999.599837\n",
    "t = ((dtab['obsTime']-bjd0) % period) / period\n",
    "dmag = dtab['dmag']\n",
    "w = np.argsort(t)\n",
    "t = t[w]\n",
    "dmag = dmag[w]\n",
    "xlim = np.array([t.min(),t.max()])\n",
    "xlim = xlim + np.array([-1,1])*0.02*(xlim[1]-xlim[0])\n",
    "ylim = np.array([dmag.max(),dmag.min()])\n",
    "ylim = ylim + np.array([-1,1])*0.02*(ylim[1]-ylim[0])\n",
    "\n",
    "pylab.rcParams.update({'font.size': 14})\n",
    "pylab.figure(1,(10,6))\n",
    "pylab.plot(t,dmag,'-o')\n",
    "pylab.xlim(xlim)\n",
    "pylab.ylim(ylim)\n",
    "pylab.xlabel('Phase')\n",
    "pylab.ylabel('Delta magnitude from mean [mag]')\n",
    "pylab.title(objname)\n",
    "pylab.tight_layout()"
   ]
  },
  {
   "cell_type": "markdown",
   "metadata": {},
   "source": [
    "## Repeat search for another eclipsing binary KIC 8153568"
   ]
  },
  {
   "cell_type": "code",
   "execution_count": 17,
   "metadata": {},
   "outputs": [],
   "source": [
    "objname = 'KIC 8153568'\n",
    "ra, dec = resolve(objname)\n",
    "radius = 1.0/60.0 # radius = 1 arcsec\n",
    "\n",
    "query = \"\"\"select o.objID, o.raMean, o.decMean,\n",
    "o.nDetections, o.ng, o.nr, o.ni, o.nz, o.ny,\n",
    "m.gMeanPSFMag, m.rMeanPSFMag, m.iMeanPSFMag, m.zMeanPSFMag, m.yMeanPSFMag\n",
    "from fGetNearestObjEq({},{},{}) nb\n",
    "inner join ObjectThin o on o.objid=nb.objid and o.nDetections>1\n",
    "inner join MeanObject m on o.objid=m.objid and o.uniquePspsOBid=m.uniquePspsOBid\n",
    "\"\"\".format(ra,dec,radius)\n",
    "\n",
    "jobs = mastcasjobs.MastCasJobs(context=\"PanSTARRS_DR2\")\n",
    "results = jobs.quick(query, task_name=\"python cone search\")\n",
    "tab = fixcolnames(ascii.read(results))\n",
    "tab"
   ]
  },
  {
   "cell_type": "code",
   "execution_count": 18,
   "metadata": {},
   "outputs": [],
   "source": [
    "objid = tab['objID'][0]\n",
    "query = \"\"\"select \n",
    "    objID, detectID, filter=f.filterType, obsTime, ra, dec,\n",
    "    psfFlux, psfFluxErr, psfMajorFWHM, psfMinorFWHM, psfQfPerfect, \n",
    "    apFlux, apFluxErr, infoFlag, infoFlag2, infoFlag3\n",
    "from (\n",
    "    select * from Detection where objID={}\n",
    "    ) d\n",
    "join Filter f on d.filterID=f.filterID\n",
    "where psfQfPerfect>0.9\n",
    "order by d.filterID, obsTime\n",
    "\"\"\".format(objid)\n",
    "\n",
    "dresults = jobs.quick(query, task_name=\"python detection search\")\n",
    "dtab = fixcolnames(ascii.read(dresults))\n",
    "\n",
    "# add magnitude and difference from mean\n",
    "dtab['magmean'] = 0.0\n",
    "for filter in \"grizy\":\n",
    "    dtab['magmean'][dtab['filter']==filter] = tab[filter+'MeanPSFMag'][0]\n",
    "dtab['mag'] = -2.5*np.log10(dtab['psfFlux']) + 8.90\n",
    "dtab['dmag'] = dtab['mag']-dtab['magmean']\n",
    "dtab"
   ]
  },
  {
   "cell_type": "code",
   "execution_count": 19,
   "metadata": {},
   "outputs": [],
   "source": [
    "t = dtab['obsTime']\n",
    "dmag = dtab['dmag']\n",
    "xlim = np.array([t.min(),t.max()])\n",
    "xlim = xlim + np.array([-1,1])*0.02*(xlim[1]-xlim[0])\n",
    "ylim = np.array([dmag.max(),dmag.min()])\n",
    "ylim = ylim + np.array([-1,1])*0.02*(ylim[1]-ylim[0])\n",
    "\n",
    "pylab.rcParams.update({'font.size': 14})\n",
    "pylab.figure(1,(10,10))\n",
    "for i, filter in enumerate(\"grizy\"):\n",
    "    pylab.subplot(511+i)\n",
    "    w = np.where(dtab['filter']==filter)[0]\n",
    "    pylab.plot(t[w],dmag[w],'-o')\n",
    "    magmean = dtab['magmean'][w[0]]\n",
    "    pylab.ylabel('{} [mag - {:.2f}]'.format(filter,magmean))\n",
    "    pylab.xlim(xlim)\n",
    "    pylab.ylim(ylim)\n",
    "    if i==0:\n",
    "        pylab.title(objname)\n",
    "pylab.xlabel('Time [MJD]')\n",
    "pylab.tight_layout()"
   ]
  },
  {
   "cell_type": "markdown",
   "metadata": {},
   "source": [
    "Eclipsing binaries basically vary by same amount in all filters since it is a geometrical effect, so combine the data into a single light curve.\n",
    "\n",
    "Wrap using known period and plot versus phase.  Plot two periods of the light curve this time.\n",
    "\n",
    "This nice light curve appears to show a secondary eclipse."
   ]
  },
  {
   "cell_type": "code",
   "execution_count": 20,
   "metadata": {
    "scrolled": false
   },
   "outputs": [],
   "source": [
    "period = 3.6071431\n",
    "bjd0 = 54999.289794\n",
    "t = ((dtab['obsTime']-bjd0) % period) / period\n",
    "dmag = dtab['dmag']\n",
    "w = np.argsort(t)\n",
    "# extend to two periods\n",
    "nw = len(w)\n",
    "w = np.append(w,w)\n",
    "t = t[w]\n",
    "# add one to second period\n",
    "t[-nw:] += 1\n",
    "dmag = dmag[w]\n",
    "xlim = [0,2.0]\n",
    "ylim = np.array([dmag.max(),dmag.min()])\n",
    "ylim = ylim + np.array([-1,1])*0.02*(ylim[1]-ylim[0])\n",
    "\n",
    "pylab.rcParams.update({'font.size': 14})\n",
    "pylab.figure(1,(12,6))\n",
    "pylab.plot(t,dmag,'-o')\n",
    "pylab.xlim(xlim)\n",
    "pylab.ylim(ylim)\n",
    "pylab.xlabel('Phase')\n",
    "pylab.ylabel('Delta magnitude from mean [mag]')\n",
    "pylab.title(objname)\n",
    "pylab.tight_layout()"
   ]
  },
  {
   "cell_type": "code",
   "execution_count": null,
   "metadata": {},
   "outputs": [],
   "source": []
  }
 ],
 "metadata": {
  "git": {
   "suppress_outputs": true
  },
  "kernelspec": {
   "display_name": "Python 3",
   "language": "python",
   "name": "python3"
  },
  "language_info": {
   "codemirror_mode": {
    "name": "ipython",
    "version": 3
   },
   "file_extension": ".py",
   "mimetype": "text/x-python",
   "name": "python",
   "nbconvert_exporter": "python",
   "pygments_lexer": "ipython3",
   "version": "3.6.6"
  }
 },
 "nbformat": 4,
 "nbformat_minor": 2
}
