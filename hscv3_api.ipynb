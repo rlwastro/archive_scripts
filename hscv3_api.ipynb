{
 "cells": [
  {
   "cell_type": "markdown",
   "metadata": {},
   "source": [
    "# Hubble Source Catalog API Notebook\n",
    "### August 2019, Rick White\n",
    "\n",
    "A [new MAST interface](https://catalogs.mast.stsci.edu/hsc) supports queries to the current and previous versions of the [Hubble Source Catalog](https://archive.stsci.edu/hst/hsc). It allows searches of the summary table (with multi-filter mean photometry) and the detailed table (with all the multi-epoch measurements).  It also has an associated [API](https://catalogs.mast.stsci.edu/docs/hsc.html), which is used in this notebook.\n",
    "\n",
    "This is based on [HSC Use Case #3](https://archive.stsci.edu/hst/hsc/help/use_case_3_v2.html).\n",
    "* It searches the HSC for variable objects in the vicinity of dwarf galaxy IC 1613,\n",
    "* shows the positions of those objects in a color-magnitude diagram,\n",
    "* extracts light curves for an example object, and\n",
    "* displays cutout images from the Hubble observations that were used for the light curve measurements.\n",
    "\n",
    "The whole process takes only 30 seconds to complete.\n",
    "\n",
    "This notebook is available for [download](hscv3_api.ipynb).  Another [simple notebook](hscv3_smc_api.html) generates a color-magnitude diagram for the Small Magellanic Cloud in only a couple of minutes.  A more complex notebook that shows how to access the proper motion tables using the HSC API is also [available](sweeps_hscv3p1_api.html)."
   ]
  },
  {
   "cell_type": "markdown",
   "metadata": {},
   "source": [
    "# Instructions: \n",
    "* Complete the initialization steps [described below](#Initialization).\n",
    "* Run the notebook.\n",
    "\n",
    "Running the notebook from top to bottom takes about 30 seconds.\n",
    "\n",
    "\n",
    "# Table of Contents\n",
    "* [Initialization](#Initialization)\n",
    "* [Get metadata on available HSC columns](#metadata)\n",
    "* [Find variable objects in IC 1613](#ic1613)\n",
    "    * [Use MAST name resolver](#resolver)\n",
    "    * [Search HSC summary table](#summary)\n",
    "    * [Plot variability index versus magnitude](#variability)\n",
    "    * [Show variable objects in a color-magnitude diagram](#cmd)\n",
    "* [Get HSC light curve for a variable](#lightcurve)\n",
    "* [Extract HLA cutout images for the variable](#cutouts)"
   ]
  },
  {
   "cell_type": "markdown",
   "metadata": {},
   "source": [
    "# Initialization <a class=\"anchor\" id=\"Initialization\"></a>"
   ]
  },
  {
   "cell_type": "markdown",
   "metadata": {},
   "source": [
    "### Install Python modules\n",
    "\n",
    "_This notebook requires the use of **Python 3**._\n",
    "\n",
    "This needs the `requests` and `pillow` modules in addition to the common requirements of `astropy`, `numpy` and `scipy`.  For anaconda versions of Python the installation commands are:\n",
    "\n",
    "<pre>\n",
    "conda install requests\n",
    "conda install pillow\n",
    "</pre>"
   ]
  },
  {
   "cell_type": "code",
   "execution_count": null,
   "metadata": {},
   "outputs": [],
   "source": [
    "%matplotlib inline\n",
    "import astropy, pylab, time, sys, os, requests, json\n",
    "import numpy as np\n",
    "from pprint import pprint\n",
    "\n",
    "from astropy.table import Table\n",
    "from astropy.io import ascii\n",
    "\n",
    "from PIL import Image\n",
    "from io import BytesIO\n",
    "\n",
    "# Set page width to fill browser for longer output lines\n",
    "from IPython.core.display import display, HTML\n",
    "display(HTML(\"<style>.container { width:100% !important; }</style>\"))\n",
    "# set width for pprint\n",
    "astropy.conf.max_width = 150"
   ]
  },
  {
   "cell_type": "markdown",
   "metadata": {},
   "source": [
    "## Useful functions\n",
    "\n",
    "Execute HSC searches and resolve names using [MAST query](https://mast.stsci.edu/api/v0/MastApiTutorial.html)."
   ]
  },
  {
   "cell_type": "code",
   "execution_count": null,
   "metadata": {},
   "outputs": [],
   "source": [
    "hscapiurl = \"https://catalogs.mast.stsci.edu/api/v0.1/hsc\"\n",
    "\n",
    "def hsccone(ra,dec,radius,table=\"summary\",release=\"v3\",format=\"csv\",magtype=\"magaper2\",\n",
    "            columns=None, baseurl=hscapiurl, verbose=False,\n",
    "            **kw):\n",
    "    \"\"\"Do a cone search of the HSC catalog\n",
    "    \n",
    "    Parameters\n",
    "    ----------\n",
    "    ra (float): (degrees) J2000 Right Ascension\n",
    "    dec (float): (degrees) J2000 Declination\n",
    "    radius (float): (degrees) Search radius (<= 0.5 degrees)\n",
    "    table (string): summary, detailed, propermotions, or sourcepositions\n",
    "    release (string): v3 or v2\n",
    "    magtype (string): magaper2 or magauto (only applies to summary table)\n",
    "    format: csv, votable, json\n",
    "    columns: list of column names to include (None means use defaults)\n",
    "    baseurl: base URL for the request\n",
    "    verbose: print info about request\n",
    "    **kw: other parameters (e.g., 'numimages.gte':2)\n",
    "    \"\"\"\n",
    "    \n",
    "    data = kw.copy()\n",
    "    data['ra'] = ra\n",
    "    data['dec'] = dec\n",
    "    data['radius'] = radius\n",
    "    return hscsearch(table=table,release=release,format=format,magtype=magtype,\n",
    "                     columns=columns,baseurl=baseurl,verbose=verbose,**data)\n",
    "\n",
    "\n",
    "def hscsearch(table=\"summary\",release=\"v3\",magtype=\"magaper2\",format=\"csv\",\n",
    "              columns=None, baseurl=hscapiurl, verbose=False,\n",
    "           **kw):\n",
    "    \"\"\"Do a general search of the HSC catalog (possibly without ra/dec/radius)\n",
    "    \n",
    "    Parameters\n",
    "    ----------\n",
    "    table (string): summary, detailed, propermotions, or sourcepositions\n",
    "    release (string): v3 or v2\n",
    "    magtype (string): magaper2 or magauto (only applies to summary table)\n",
    "    format: csv, votable, json\n",
    "    columns: list of column names to include (None means use defaults)\n",
    "    baseurl: base URL for the request\n",
    "    verbose: print info about request\n",
    "    **kw: other parameters (e.g., 'numimages.gte':2).  Note this is required!\n",
    "    \"\"\"\n",
    "    \n",
    "    data = kw.copy()\n",
    "    if not data:\n",
    "        raise ValueError(\"You must specify some parameters for search\")\n",
    "    if format not in (\"csv\",\"votable\",\"json\"):\n",
    "        raise ValueError(\"Bad value for format\")\n",
    "    url = \"{}.{}\".format(cat2url(table,release,magtype,baseurl=baseurl),format)\n",
    "    if columns:\n",
    "        # check that column values are legal\n",
    "        # create a dictionary to speed this up\n",
    "        dcols = {}\n",
    "        for col in hscmetadata(table,release,magtype)['name']:\n",
    "            dcols[col.lower()] = 1\n",
    "        badcols = []\n",
    "        for col in columns:\n",
    "            if col.lower().strip() not in dcols:\n",
    "                badcols.append(col)\n",
    "        if badcols:\n",
    "            raise ValueError('Some columns not found in table: {}'.format(', '.join(badcols)))\n",
    "        # two different ways to specify a list of column values in the API\n",
    "        # data['columns'] = columns\n",
    "        data['columns'] = '[{}]'.format(','.join(columns))\n",
    "\n",
    "    # either get or post works\n",
    "    # r = requests.post(url, data=data)\n",
    "    r = requests.get(url, params=data)\n",
    "\n",
    "    if verbose:\n",
    "        print(r.url)\n",
    "    r.raise_for_status()\n",
    "    if format == \"json\":\n",
    "        return r.json()\n",
    "    else:\n",
    "        return r.text\n",
    "\n",
    "\n",
    "def hscmetadata(table=\"summary\",release=\"v3\",magtype=\"magaper2\",baseurl=hscapiurl):\n",
    "    \"\"\"Return metadata for the specified catalog and table\n",
    "    \n",
    "    Parameters\n",
    "    ----------\n",
    "    table (string): summary, detailed, propermotions, or sourcepositions\n",
    "    release (string): v3 or v2\n",
    "    magtype (string): magaper2 or magauto (only applies to summary table)\n",
    "    baseurl: base URL for the request\n",
    "    \n",
    "    Returns an astropy table with columns name, type, description\n",
    "    \"\"\"\n",
    "    url = \"{}/metadata\".format(cat2url(table,release,magtype,baseurl=baseurl))\n",
    "    r = requests.get(url)\n",
    "    r.raise_for_status()\n",
    "    v = r.json()\n",
    "    # convert to astropy table\n",
    "    tab = Table(rows=[(x['name'],x['type'],x['description']) for x in v],\n",
    "               names=('name','type','description'))\n",
    "    return tab\n",
    "\n",
    "\n",
    "def cat2url(table=\"summary\",release=\"v3\",magtype=\"magaper2\",baseurl=hscapiurl):\n",
    "    \"\"\"Return URL for the specified catalog and table\n",
    "    \n",
    "    Parameters\n",
    "    ----------\n",
    "    table (string): summary, detailed, propermotions, or sourcepositions\n",
    "    release (string): v3 or v2\n",
    "    magtype (string): magaper2 or magauto (only applies to summary table)\n",
    "    baseurl: base URL for the request\n",
    "    \n",
    "    Returns a string with the base URL for this request\n",
    "    \"\"\"\n",
    "    checklegal(table,release,magtype)\n",
    "    if table == \"summary\":\n",
    "        url = \"{baseurl}/{release}/{table}/{magtype}\".format(**locals())\n",
    "    else:\n",
    "        url = \"{baseurl}/{release}/{table}\".format(**locals())\n",
    "    return url\n",
    "\n",
    "\n",
    "def checklegal(table,release,magtype):\n",
    "    \"\"\"Checks if this combination of table, release and magtype is acceptable\n",
    "    \n",
    "    Raises a ValueError exception if there is problem\n",
    "    \"\"\"\n",
    "    \n",
    "    releaselist = (\"v2\", \"v3\")\n",
    "    if release not in releaselist:\n",
    "        raise ValueError(\"Bad value for release (must be one of {})\".format(\n",
    "            ', '.join(releaselist)))\n",
    "    if release==\"v2\":\n",
    "        tablelist = (\"summary\", \"detailed\")\n",
    "    else:\n",
    "        tablelist = (\"summary\", \"detailed\", \"propermotions\", \"sourcepositions\")\n",
    "    if table not in tablelist:\n",
    "        raise ValueError(\"Bad value for table (for {} must be one of {})\".format(\n",
    "            release, \", \".join(tablelist)))\n",
    "    if table == \"summary\":\n",
    "        magtypelist = (\"magaper2\", \"magauto\")\n",
    "        if magtype not in magtypelist:\n",
    "            raise ValueError(\"Bad value for magtype (must be one of {})\".format(\n",
    "                \", \".join(magtypelist)))\n",
    "\n",
    "\n",
    "def mastQuery(request, url='https://mast.stsci.edu/api/v0/invoke'):\n",
    "    \"\"\"Perform a MAST query.\n",
    "\n",
    "    Parameters\n",
    "    ----------\n",
    "    request (dictionary): The MAST request json object\n",
    "    url (string): The service URL\n",
    "\n",
    "    Returns the returned data content\n",
    "    \"\"\"\n",
    "    \n",
    "    # Encoding the request as a json string\n",
    "    requestString = json.dumps(request)\n",
    "    r = requests.post(url, data={'request': requestString})\n",
    "    r.raise_for_status()\n",
    "    return r.text\n",
    "\n",
    "\n",
    "def resolve(name):\n",
    "    \"\"\"Get the RA and Dec for an object using the MAST name resolver\n",
    "    \n",
    "    Parameters\n",
    "    ----------\n",
    "    name (str): Name of object\n",
    "\n",
    "    Returns RA, Dec tuple with position\n",
    "    \"\"\"\n",
    "\n",
    "    resolverRequest = {'service':'Mast.Name.Lookup',\n",
    "                       'params':{'input':name,\n",
    "                                 'format':'json'\n",
    "                                },\n",
    "                      }\n",
    "    resolvedObjectString = mastQuery(resolverRequest)\n",
    "    resolvedObject = json.loads(resolvedObjectString)\n",
    "    # The resolver returns a variety of information about the resolved object, \n",
    "    # however for our purposes all we need are the RA and Dec\n",
    "    try:\n",
    "        objRa = resolvedObject['resolvedCoordinate'][0]['ra']\n",
    "        objDec = resolvedObject['resolvedCoordinate'][0]['decl']\n",
    "    except IndexError as e:\n",
    "        raise ValueError(\"Unknown object '{}'\".format(name))\n",
    "    return (objRa, objDec)"
   ]
  },
  {
   "cell_type": "markdown",
   "metadata": {},
   "source": [
    "## Get metadata on available columns <a name=\"metadata\"></a>\n",
    "\n",
    "The `metadata` query returns information on the columns in the table.  It works for any of the tables in the API (`summary`, `detailed`, `propermotions`, `sourcepositions`).\n",
    "\n",
    "Note that the summary table has a huge number of columns!  Each of the 133 filter/detector combinations has 3 columns with the magnitude, median absolute deviation (MAD, a robust measure of the scatter among the measurements), and the number of independent measurements in the filter.  The filter name includes a prefix for the detector (`A`=ACS/WFC, `W3`=WFC3/UVIS or WFC3/IR, `W2`=WFPC2) followed by the standard name of the filter.  So for instance all three instruments have an F814W filter, so there are columns for `A_F814W`, `W3_F814W`, and `W2_F814W`."
   ]
  },
  {
   "cell_type": "code",
   "execution_count": null,
   "metadata": {
    "scrolled": false
   },
   "outputs": [],
   "source": [
    "meta = hscmetadata(\"summary\")\n",
    "print(len(meta),\"columns in summary\")\n",
    "filterlist = meta['name'][19::3].tolist()\n",
    "print(len(filterlist),\"filters\")\n",
    "pprint(filterlist, compact=True)\n",
    "meta[:19]"
   ]
  },
  {
   "cell_type": "markdown",
   "metadata": {},
   "source": [
    "## Find variable objects in the dwarf irregular galaxy IC 1613 <a name=\"ic1613\"></a>\n",
    "\n",
    "This is based on [HSC Use Case #3](https://archive.stsci.edu/hst/hsc/help/use_case_3_v2.html), which shows an example of selecting objects from the HSC in portal.  This is simple to do using the HSC API."
   ]
  },
  {
   "cell_type": "markdown",
   "metadata": {},
   "source": [
    "### Use MAST name resolver to get position of IC 1613 <a name=\"resolver\"></a>"
   ]
  },
  {
   "cell_type": "code",
   "execution_count": null,
   "metadata": {},
   "outputs": [],
   "source": [
    "target = 'IC 1613'\n",
    "ra, dec = resolve(target)\n",
    "print(target,ra,dec)"
   ]
  },
  {
   "cell_type": "markdown",
   "metadata": {},
   "source": [
    "### Select objects with enough measurements to determine variability <a name=\"summary\"></a>\n",
    "\n",
    "This searches the summary table for objects within 0.5 degrees of the galaxy center that have at least 10 measurements in both ACS F475W and F814W."
   ]
  },
  {
   "cell_type": "code",
   "execution_count": null,
   "metadata": {},
   "outputs": [],
   "source": [
    "# save typing a quoted list of columns\n",
    "columns = \"\"\"MatchID,MatchRA,MatchDec,NumFilters,NumVisits,NumImages,StartMJD,StopMJD,\n",
    "    A_F475W, A_F475W_N, A_F475W_MAD,\n",
    "    A_F814W, A_F814W_N, A_F814W_MAD\"\"\".split(\",\")\n",
    "columns = [x.strip() for x in columns]\n",
    "columns = [x for x in columns if x and not x.startswith('#')]\n",
    "\n",
    "constraints = {'A_F475W_N.gte': 10, 'A_F814W_N.gte': 10}\n",
    "\n",
    "t0 = time.time()\n",
    "tab = ascii.read(hsccone(ra,dec,0.5,table=\"summary\",release='v3',columns=columns,verbose=True,**constraints))\n",
    "print(\"{:.1f} s: retrieved data and converted to {}-row astropy table\".format(time.time()-t0, len(tab)))\n",
    "\n",
    "# clean up the output format\n",
    "tab['A_F475W'].format = \"{:.3f}\"\n",
    "tab['A_F475W_MAD'].format = \"{:.3f}\"\n",
    "tab['A_F814W'].format = \"{:.3f}\"\n",
    "tab['A_F814W_MAD'].format = \"{:.3f}\"\n",
    "tab['MatchRA'].format = \"{:.6f}\"\n",
    "tab['MatchDec'].format = \"{:.6f}\"\n",
    "tab['StartMJD'].format = \"{:.5f}\"\n",
    "tab['StopMJD'].format = \"{:.5f}\"\n",
    "tab"
   ]
  },
  {
   "cell_type": "markdown",
   "metadata": {},
   "source": [
    "### Plot object positions on the sky\n",
    "\n",
    "We mark the galaxy center as well.  Note that this field is in the outskirts of IC 1613.  The 0.5 search radius (which is the maximum allowed in the API) allows finding these objects."
   ]
  },
  {
   "cell_type": "code",
   "execution_count": null,
   "metadata": {},
   "outputs": [],
   "source": [
    "pylab.rcParams.update({'font.size': 16})\n",
    "pylab.figure(1,(10,10))\n",
    "pylab.plot(tab['MatchRA'], tab['MatchDec'], 'bo', markersize=1,\n",
    "          label='{} HSC measurements'.format(len(tab)))\n",
    "pylab.plot(ra,dec,'rx',label=target,markersize=10)\n",
    "pylab.gca().invert_xaxis()\n",
    "pylab.gca().set_aspect('equal')\n",
    "pylab.xlabel('RA [deg]')\n",
    "pylab.ylabel('Dec [deg]')\n",
    "pylab.legend(loc='best')"
   ]
  },
  {
   "cell_type": "markdown",
   "metadata": {},
   "source": [
    "### Plot MAD variability index versus magnitude in F475W <a name=\"variability\"></a>\n",
    "\n",
    "The median absolute deviation is measured among the ~12 magnitude measurements in the catalog.  Some scatter is expected from noise (which increases for fainter objects).   Objects with MAD values that are high are likely to be variable.\n",
    "\n",
    "Select variable objects that are not too faint."
   ]
  },
  {
   "cell_type": "code",
   "execution_count": null,
   "metadata": {},
   "outputs": [],
   "source": [
    "wvar = np.where((tab['A_F475W_MAD']>0.1) & (tab['A_F475W']<24) & (tab['A_F475W']>21))[0]\n",
    "pylab.rcParams.update({'font.size': 16})\n",
    "pylab.figure(1,(10,10))\n",
    "pylab.plot(tab['A_F475W'], tab['A_F475W_MAD'], 'bo', markersize=2,\n",
    "          label='{} HSC measurements near {}'.format(len(tab),target))\n",
    "pylab.plot(tab['A_F475W'][wvar], tab['A_F475W_MAD'][wvar], 'ro', markersize=5,\n",
    "          label='{} variable candidates'.format(len(wvar)))\n",
    "pylab.xlabel('A_F475W [mag]')\n",
    "pylab.ylabel('A_F475W_MAD [mag]')\n",
    "pylab.legend(loc='best')"
   ]
  },
  {
   "cell_type": "markdown",
   "metadata": {},
   "source": [
    "### Check positions of variable objects in a color-magnitude diagram <a name=\"cmd\"></a>\n",
    "\n",
    "Note that these objects are generally located in the Cepheid instability strip."
   ]
  },
  {
   "cell_type": "code",
   "execution_count": null,
   "metadata": {},
   "outputs": [],
   "source": [
    "pylab.rcParams.update({'font.size': 16})\n",
    "pylab.figure(1,(10,10))\n",
    "b_minus_i = tab['A_F475W'] - tab['A_F814W']\n",
    "pylab.plot(b_minus_i, tab['A_F475W'], 'bo', markersize=2,\n",
    "          label='{} HSC measurements near {}'.format(len(tab),target))\n",
    "pylab.plot(b_minus_i[wvar], tab['A_F475W'][wvar], 'ro', markersize=5,\n",
    "          label='{} variable candidates'.format(len(wvar)))\n",
    "pylab.ylabel('A_F475W [mag]')\n",
    "pylab.xlabel('A_F475W - A_F814W [mag]')\n",
    "pylab.gca().invert_yaxis()\n",
    "pylab.legend(loc='best')"
   ]
  },
  {
   "cell_type": "markdown",
   "metadata": {},
   "source": [
    "### Query the API for the light curve for one of the objects <a name=\"lightcurve\"></a>\n",
    "\n",
    "Select the most variable object as an example. "
   ]
  },
  {
   "cell_type": "code",
   "execution_count": null,
   "metadata": {},
   "outputs": [],
   "source": [
    "wvar = wvar[np.argsort(-tab['A_F475W_MAD'][wvar])]\n",
    "iselect = wvar[0]\n",
    "print(\"MatchID {} B = {:.3f} B-I = {:.3f}\".format(\n",
    "    tab['MatchID'][iselect], tab['A_F475W'][iselect], b_minus_i[iselect]))\n",
    "tab[wvar]"
   ]
  },
  {
   "cell_type": "markdown",
   "metadata": {},
   "source": [
    "Get column metadata for detailed observation table (which has time-dependent magnitudes)."
   ]
  },
  {
   "cell_type": "code",
   "execution_count": null,
   "metadata": {},
   "outputs": [],
   "source": [
    "meta = hscmetadata(\"detailed\")\n",
    "print(len(meta),\"columns in detailed\")\n",
    "pprint(meta['name'].tolist(), compact=True)"
   ]
  },
  {
   "cell_type": "markdown",
   "metadata": {},
   "source": [
    "### Get separate light curves for F475W and F814W from the detailed table"
   ]
  },
  {
   "cell_type": "code",
   "execution_count": null,
   "metadata": {},
   "outputs": [],
   "source": [
    "columns = \"\"\"MatchID,SourceID,StartMJD,Detector,Filter,MagAper2,Flags,ImageName\"\"\".split(\",\")\n",
    "columns = [x.strip() for x in columns]\n",
    "columns = [x for x in columns if x and not x.startswith('#')]\n",
    "\n",
    "constraints = {'MatchID': tab['MatchID'][iselect], 'Detector': 'ACS/WFC'}\n",
    "t0 = time.time()\n",
    "f475 = ascii.read(hscsearch(table=\"detailed\",release='v3',columns=columns,Filter='F475W',**constraints))\n",
    "f814 = ascii.read(hscsearch(table=\"detailed\",release='v3',columns=columns,Filter='F814W',**constraints))\n",
    "print(\"{:.1f} s: retrieved data and converted to {} (F475W) and {} (F814W) row astropy tables\".format(time.time()-t0, len(f475), len(f814)))\n",
    "\n",
    "f475.sort('StartMJD')\n",
    "f814.sort('StartMJD')\n",
    "f475['MagAper2'].format = \"{:.3f}\"\n",
    "f475['StartMJD'].format = \"{:.5f}\"\n",
    "f814['MagAper2'].format = \"{:.3f}\"\n",
    "f814['StartMJD'].format = \"{:.5f}\"\n",
    "\n",
    "f475"
   ]
  },
  {
   "cell_type": "markdown",
   "metadata": {},
   "source": [
    "### Plot the light curves\n",
    "\n",
    "The light curves appear well-behaved and are closely correlated in the two filters."
   ]
  },
  {
   "cell_type": "code",
   "execution_count": null,
   "metadata": {},
   "outputs": [],
   "source": [
    "pylab.rcParams.update({'font.size': 16})\n",
    "pylab.figure(1,(10,10))\n",
    "pylab.subplot(211)\n",
    "pylab.plot(f475['StartMJD'], f475['MagAper2'], 'bo', label='ACS/WFC F475W')\n",
    "pylab.gca().invert_yaxis()\n",
    "pylab.ylabel('F475W [mag]')\n",
    "pylab.legend(loc='best')\n",
    "xlim = pylab.xlim()\n",
    "\n",
    "pylab.subplot(212)\n",
    "pylab.plot(f814['StartMJD'], f814['MagAper2'], 'ro', label='ACS/WFC F814W')\n",
    "pylab.gca().invert_yaxis()\n",
    "pylab.ylabel('F814W [mag]')\n",
    "pylab.xlabel('MJD [days]')\n",
    "pylab.xlim(xlim)\n",
    "pylab.legend(loc='best')"
   ]
  },
  {
   "cell_type": "markdown",
   "metadata": {},
   "source": [
    "### Extract HLA cutout images for the F475W images <a name=\"cutouts\"></a>\n",
    "\n",
    "Get HLA F475W cutout images for the example variable.  The `get_hla_cutout` function reads a single cutout image (as a JPEG grayscale image) and returns a PIL image object.  See the documentation on the [fitscut image cutout service](http://hla.stsci.edu/fitscutcgi_interface.html) for more information on the web service being used.\n",
    "\n",
    "Examination of the images can be useful to identified cosmic-ray contamination and other possible image artifacts.  In this case, no issues are seen, so the light curve is likely to be reliable."
   ]
  },
  {
   "cell_type": "code",
   "execution_count": null,
   "metadata": {
    "scrolled": false
   },
   "outputs": [],
   "source": [
    "def get_hla_cutout(imagename,ra,dec,size=33,autoscale=99.5,asinh=1,zoom=1):\n",
    "    \n",
    "    \"\"\"Get JPEG cutout for an image\"\"\"\n",
    "    \n",
    "    url = \"https://hla.stsci.edu/cgi-bin/fitscut.cgi\"\n",
    "    r = requests.get(url, params=dict(ra=ra, dec=dec, size=size, \n",
    "            format=\"jpeg\", red=imagename, autoscale=autoscale, asinh=asinh, zoom=zoom))\n",
    "    im = Image.open(BytesIO(r.content))\n",
    "    return im\n",
    "\n",
    "# sort images by magnitude from faintest to brightest\n",
    "isort = np.argsort(-f475['MagAper2'])\n",
    "\n",
    "imagename = f475['ImageName'][isort]\n",
    "mag = f475['MagAper2'][isort]\n",
    "mjd = f475['StartMJD'][isort]\n",
    "\n",
    "nim = len(imagename)\n",
    "ncols = 4 # images per row\n",
    "nrows = (nim+ncols-1)//ncols\n",
    "\n",
    "imsize = 15\n",
    "mra = tab['MatchRA'][iselect]\n",
    "mdec = tab['MatchDec'][iselect]\n",
    "\n",
    "pylab.rcParams.update({\"font.size\":11})\n",
    "pylab.figure(1,(15, (15/ncols)*nrows))\n",
    "t0 = time.time()\n",
    "for k in range(nim):\n",
    "    im1 = get_hla_cutout(imagename[k],mra,mdec,size=imsize)\n",
    "    pylab.subplot(nrows,ncols,k+1)\n",
    "    pylab.imshow(im1,origin=\"upper\",cmap=\"gray\")\n",
    "    pylab.title('{:.5f} f475w={:.3f}'.format(mjd[k],mag[k]))\n",
    "    if ((k+1) % 10)==0:\n",
    "        print(\"{:.1f} s: finished {} of {}\".format(time.time()-t0,k+1,nim))\n",
    "pylab.tight_layout()\n",
    "print(\"{:.1f} s: finished {}\".format(time.time()-t0,nim))"
   ]
  },
  {
   "cell_type": "code",
   "execution_count": null,
   "metadata": {},
   "outputs": [],
   "source": []
  }
 ],
 "metadata": {
  "kernelspec": {
   "display_name": "Python 3",
   "language": "python",
   "name": "python3"
  },
  "language_info": {
   "codemirror_mode": {
    "name": "ipython",
    "version": 3
   },
   "file_extension": ".py",
   "mimetype": "text/x-python",
   "name": "python",
   "nbconvert_exporter": "python",
   "pygments_lexer": "ipython3",
   "version": "3.7.3"
  }
 },
 "nbformat": 4,
 "nbformat_minor": 2
}
